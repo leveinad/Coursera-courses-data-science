{
 "cells": [
  {
   "cell_type": "markdown",
   "metadata": {},
   "source": [
    "<center>\n",
    "    <img src=\"https://s3-api.us-geo.objectstorage.softlayer.net/cf-courses-data/CognitiveClass/Logos/organization_logo/organization_logo.png\" width=\"300\" alt=\"cognitiveclass.ai logo\"  />\n",
    "</center>\n",
    "\n",
    "# Working with a real world data-set using SQL and Python\n",
    "\n",
    "Estaimted time needed: **30** minutes\n",
    "\n",
    "## Objectives\n",
    "\n",
    "After complting this lab you will be able to:\n",
    "\n",
    "*   Understand the dataset for Chicago Public School level performance\n",
    "*   Store the dataset in SQLite database.\n",
    "*   Retrieve metadata about tables and columns and query data from mixed case columns\n",
    "*   Solve example problems to practice your SQL skills including using built-in database functions\n"
   ]
  },
  {
   "cell_type": "markdown",
   "metadata": {},
   "source": [
    "## Chicago Public Schools - Progress Report Cards (2011-2012)\n",
    "\n",
    "The city of Chicago released a dataset showing all school level performance data used to create School Report Cards for the 2011-2012 school year. The dataset is available from the Chicago Data Portal: [https://data.cityofchicago.org/Education/Chicago-Public-Schools-Progress-Report-Cards-2011-/9xs2-f89t](https://data.cityofchicago.org/Education/Chicago-Public-Schools-Progress-Report-Cards-2011-/9xs2-f89t?utm_medium=Exinfluencer&utm_source=Exinfluencer&utm_content=000026UJ&utm_term=10006555&utm_id=NA-SkillsNetwork-Channel-SkillsNetworkCoursesIBMDeveloperSkillsNetworkDB0201ENSkillsNetwork20127838-2021-01-01&cm_mmc=Email_Newsletter-\\_-Developer_Ed%2BTech-\\_-WW_WW-\\_-SkillsNetwork-Courses-IBMDeveloperSkillsNetwork-DB0201EN-SkillsNetwork-20127838&cm_mmca1=000026UJ&cm_mmca2=10006555&cm_mmca3=M12345678&cvosrc=email.Newsletter.M12345678&cvo_campaign=000026UJ)\n",
    "\n",
    "This dataset includes a large number of metrics. Start by familiarizing yourself with the types of metrics in the database: [https://data.cityofchicago.org/api/assets/AAD41A13-BE8A-4E67-B1F5-86E711E09D5F?download=true](https://data.cityofchicago.org/api/assets/AAD41A13-BE8A-4E67-B1F5-86E711E09D5F?utm_medium=Exinfluencer&utm_source=Exinfluencer&utm_content=000026UJ&utm_term=10006555&utm_id=NA-SkillsNetwork-Channel-SkillsNetworkCoursesIBMDeveloperSkillsNetworkDB0201ENSkillsNetwork20127838-2021-01-01&download=true&cm_mmc=Email_Newsletter-\\_-Developer_Ed%2BTech-\\_-WW_WW-\\_-SkillsNetwork-Courses-IBMDeveloperSkillsNetwork-DB0201EN-SkillsNetwork-20127838&cm_mmca1=000026UJ&cm_mmca2=10006555&cm_mmca3=M12345678&cvosrc=email.Newsletter.M12345678&cvo_campaign=000026UJ)\n",
    "\n",
    "**NOTE**:\n",
    "\n",
    "Do not download the dataset directly from City of Chicago portal. Instead download a static copy which is a more database friendly version from this <a href=\"https://cf-courses-data.s3.us.cloud-object-storage.appdomain.cloud/IBMDeveloperSkillsNetwork-DB0201EN-SkillsNetwork/labs/FinalModule_Coursera_V5/data/ChicagoPublicSchools.csv?utm_medium=Exinfluencer&utm_source=Exinfluencer&utm_content=000026UJ&utm_term=10006555&utm_id=NA-SkillsNetwork-Channel-SkillsNetworkCoursesIBMDeveloperSkillsNetworkDB0201ENSkillsNetwork20127838-2021-01-01\">link</a>.\n",
    "\n",
    "Now review some of its contents.\n"
   ]
  },
  {
   "cell_type": "markdown",
   "metadata": {},
   "source": [
    "### Connect to the database\n",
    "\n",
    "Let us now load the ipython-sql  extension and establish a connection with the database\n",
    "\n",
    "##### The syntax for connecting to magic sql using sqllite is\n",
    "\n",
    "**%sql sqlite://DatabaseName**\n",
    "\n",
    "where DatabaseName will be your **.db** file\n"
   ]
  },
  {
   "cell_type": "code",
   "execution_count": 1,
   "metadata": {},
   "outputs": [],
   "source": [
    "import csv, sqlite3\n",
    "\n",
    "con = sqlite3.connect(\"RealWorldData.db\")\n",
    "cur = con.cursor()"
   ]
  },
  {
   "cell_type": "code",
   "execution_count": 2,
   "metadata": {},
   "outputs": [],
   "source": [
    "\n",
    "!pip install -q pandas==1.1.5"
   ]
  },
  {
   "cell_type": "code",
   "execution_count": 3,
   "metadata": {},
   "outputs": [],
   "source": [
    "%load_ext sql"
   ]
  },
  {
   "cell_type": "code",
   "execution_count": 4,
   "metadata": {},
   "outputs": [],
   "source": [
    "%sql sqlite:///RealWorldData.db"
   ]
  },
  {
   "cell_type": "markdown",
   "metadata": {},
   "source": [
    "### Store the dataset in a Table\n",
    "\n",
    "##### In many cases the dataset to be analyzed is available as a .CSV (comma separated values) file, perhaps on the internet. To analyze the data\n",
    "\n",
    "##### using SQL, it first needs to be stored in the database.\n",
    "\n",
    "##### We will first read the csv files  from the given url  into pandas dataframes\n",
    "\n",
    "##### Next we will be using the  df.to_sql() function to convert each csv file  to a table in sqlite  with the csv data loaded in it.\n"
   ]
  },
  {
   "cell_type": "code",
   "execution_count": 6,
   "metadata": {},
   "outputs": [
    {
     "name": "stderr",
     "output_type": "stream",
     "text": [
      "C:\\Anaconda3\\lib\\site-packages\\pandas\\core\\generic.py:2605: UserWarning: The spaces in these column names will not be changed. In pandas versions < 0.14, spaces were converted to underscores.\n",
      "  sql.to_sql(\n"
     ]
    }
   ],
   "source": [
    "import pandas as pd\n",
    "df = pd.read_csv(\"https://cf-courses-data.s3.us.cloud-object-storage.appdomain.cloud/IBMDeveloperSkillsNetwork-DB0201EN-SkillsNetwork/labs/FinalModule_Coursera_V5/data/ChicagoPublicSchools.csv?utm_medium=Exinfluencer&utm_source=Exinfluencer&utm_content=000026UJ&utm_term=10006555&utm_id=NA-SkillsNetwork-Channel-SkillsNetworkCoursesIBMDeveloperSkillsNetworkDB0201ENSkillsNetwork20127838-2021-01-01\")\n",
    "df.to_sql(\"SCHOOLS\", con, if_exists='replace', index=False, method=\"multi\")\n"
   ]
  },
  {
   "cell_type": "code",
   "execution_count": 47,
   "metadata": {},
   "outputs": [],
   "source": [
    "df1 = pd.read_csv('https://data.cityofchicago.org/resource/jcxq-k9xf.csv')\n",
    "df1.to_sql(\"chicago_socioeconomic_data\", con, if_exists='replace', index=False,method=\"multi\")"
   ]
  },
  {
   "cell_type": "markdown",
   "metadata": {},
   "source": [
    "Double-click **here** for the solution.\n",
    "\n",
    "<!--\n",
    "\n",
    "import pandas\n",
    "df = pandas.read_csv(\"https://cf-courses-data.s3.us.cloud-object-storage.appdomain.cloud/IBMDeveloperSkillsNetwork-DB0201EN-SkillsNetwork/labs/FinalModule_Coursera_V5/data/ChicagoCensusData.csv\")\n",
    "df.to_sql(\"CENSUS_DATA\", con, if_exists='replace', index=False,method=\"multi\")\n",
    "\n",
    "df = pandas.read_csv(\"https://cf-courses-data.s3.us.cloud-object-storage.appdomain.cloud/IBMDeveloperSkillsNetwork-DB0201EN-SkillsNetwork/labs/FinalModule_Coursera_V5/data/ChicagoCrimeData.csv\")\n",
    "df.to_sql(\"CHICAGO_CRIME_DATA\", con, if_exists='replace', index=False, method=\"multi\")\n",
    "\n",
    "df = pandas.read_csv(\"https://cf-courses-data.s3.us.cloud-object-storage.appdomain.cloud/IBMDeveloperSkillsNetwork-DB0201EN-SkillsNetwork/labs/FinalModule_Coursera_V5/data/ChicagoPublicSchools.csv\")\n",
    "df.to_sql(\"CHICAGO_PUBLIC_SCHOOLS_DATA\", con, if_exists='replace', index=False, method=\"multi\")\n",
    "\n",
    "-->\n"
   ]
  },
  {
   "cell_type": "markdown",
   "metadata": {},
   "source": [
    "### Query the database system catalog to retrieve table metadata\n",
    "\n",
    "##### You can verify that the table creation was successful by retrieving the list of all tables in your schema and checking whether the SCHOOLS table was created\n"
   ]
  },
  {
   "cell_type": "code",
   "execution_count": 16,
   "metadata": {},
   "outputs": [
    {
     "name": "stdout",
     "output_type": "stream",
     "text": [
      " * sqlite:///RealWorldData.db\n",
      "Done.\n"
     ]
    },
    {
     "data": {
      "text/html": [
       "<table>\n",
       "    <tr>\n",
       "        <th>name</th>\n",
       "    </tr>\n",
       "    <tr>\n",
       "        <td>SCHOOLS</td>\n",
       "    </tr>\n",
       "</table>"
      ],
      "text/plain": [
       "[('SCHOOLS',)]"
      ]
     },
     "execution_count": 16,
     "metadata": {},
     "output_type": "execute_result"
    }
   ],
   "source": [
    "# type in your query to retrieve list of all tables in the database\n",
    "%sql SELECT name FROM sqlite_master WHERE type='table'"
   ]
  },
  {
   "cell_type": "markdown",
   "metadata": {},
   "source": [
    "Double-click **here** for a hint\n",
    "\n",
    "<!--\n",
    "In sqlite the system catalog table called sqlite_master contains the table metadata\n",
    "-->\n"
   ]
  },
  {
   "cell_type": "markdown",
   "metadata": {},
   "source": [
    "Double-click **here** for the solution.\n",
    "\n",
    "<!-- Solution using SQLite:\n",
    "\n",
    "%sql SELECT name FROM sqlite_master WHERE type='table'\n",
    "\n",
    "-->\n"
   ]
  },
  {
   "cell_type": "markdown",
   "metadata": {},
   "source": [
    "### Query the database system catalog to retrieve column metadata\n",
    "\n",
    "##### The SCHOOLS table contains a large number of columns. How many columns does this table have?\n"
   ]
  },
  {
   "cell_type": "code",
   "execution_count": 12,
   "metadata": {},
   "outputs": [
    {
     "name": "stdout",
     "output_type": "stream",
     "text": [
      " * sqlite:///RealWorldData.db\n",
      "Done.\n"
     ]
    },
    {
     "data": {
      "text/html": [
       "<table>\n",
       "    <tr>\n",
       "        <th>count(name)</th>\n",
       "    </tr>\n",
       "    <tr>\n",
       "        <td>78</td>\n",
       "    </tr>\n",
       "</table>"
      ],
      "text/plain": [
       "[(78,)]"
      ]
     },
     "execution_count": 12,
     "metadata": {},
     "output_type": "execute_result"
    }
   ],
   "source": [
    "# type in your query to retrieve the number of columns in the SCHOOLS table\n",
    "%sql SELECT count(name) FROM PRAGMA_TABLE_INFO('SCHOOLS');"
   ]
  },
  {
   "cell_type": "markdown",
   "metadata": {},
   "source": [
    "Double-click **here** for the solution.\n",
    "\n",
    "<!-- Solution SQLite:\n",
    "%sql SELECT count(name) FROM PRAGMA_TABLE_INFO('CHICAGO_PUBLIC_SCHOOLS_DATA');\n",
    "\n",
    "-->\n"
   ]
  },
  {
   "cell_type": "markdown",
   "metadata": {},
   "source": [
    "Now retrieve the the list of columns in SCHOOLS table and their column type (datatype) and length.\n"
   ]
  },
  {
   "cell_type": "code",
   "execution_count": 13,
   "metadata": {},
   "outputs": [
    {
     "name": "stdout",
     "output_type": "stream",
     "text": [
      " * sqlite:///RealWorldData.db\n",
      "Done.\n"
     ]
    },
    {
     "data": {
      "text/html": [
       "<table>\n",
       "    <tr>\n",
       "        <th>name</th>\n",
       "        <th>type</th>\n",
       "        <th>length(type)</th>\n",
       "    </tr>\n",
       "    <tr>\n",
       "        <td>School_ID</td>\n",
       "        <td>INTEGER</td>\n",
       "        <td>7</td>\n",
       "    </tr>\n",
       "    <tr>\n",
       "        <td>NAME_OF_SCHOOL</td>\n",
       "        <td>TEXT</td>\n",
       "        <td>4</td>\n",
       "    </tr>\n",
       "    <tr>\n",
       "        <td>Elementary, Middle, or High School</td>\n",
       "        <td>TEXT</td>\n",
       "        <td>4</td>\n",
       "    </tr>\n",
       "    <tr>\n",
       "        <td>Street_Address</td>\n",
       "        <td>TEXT</td>\n",
       "        <td>4</td>\n",
       "    </tr>\n",
       "    <tr>\n",
       "        <td>City</td>\n",
       "        <td>TEXT</td>\n",
       "        <td>4</td>\n",
       "    </tr>\n",
       "    <tr>\n",
       "        <td>State</td>\n",
       "        <td>TEXT</td>\n",
       "        <td>4</td>\n",
       "    </tr>\n",
       "    <tr>\n",
       "        <td>ZIP_Code</td>\n",
       "        <td>INTEGER</td>\n",
       "        <td>7</td>\n",
       "    </tr>\n",
       "    <tr>\n",
       "        <td>Phone_Number</td>\n",
       "        <td>TEXT</td>\n",
       "        <td>4</td>\n",
       "    </tr>\n",
       "    <tr>\n",
       "        <td>Link</td>\n",
       "        <td>TEXT</td>\n",
       "        <td>4</td>\n",
       "    </tr>\n",
       "    <tr>\n",
       "        <td>Network_Manager</td>\n",
       "        <td>TEXT</td>\n",
       "        <td>4</td>\n",
       "    </tr>\n",
       "    <tr>\n",
       "        <td>Collaborative_Name</td>\n",
       "        <td>TEXT</td>\n",
       "        <td>4</td>\n",
       "    </tr>\n",
       "    <tr>\n",
       "        <td>Adequate_Yearly_Progress_Made_</td>\n",
       "        <td>TEXT</td>\n",
       "        <td>4</td>\n",
       "    </tr>\n",
       "    <tr>\n",
       "        <td>Track_Schedule</td>\n",
       "        <td>TEXT</td>\n",
       "        <td>4</td>\n",
       "    </tr>\n",
       "    <tr>\n",
       "        <td>CPS_Performance_Policy_Status</td>\n",
       "        <td>TEXT</td>\n",
       "        <td>4</td>\n",
       "    </tr>\n",
       "    <tr>\n",
       "        <td>CPS_Performance_Policy_Level</td>\n",
       "        <td>TEXT</td>\n",
       "        <td>4</td>\n",
       "    </tr>\n",
       "    <tr>\n",
       "        <td>HEALTHY_SCHOOL_CERTIFIED</td>\n",
       "        <td>TEXT</td>\n",
       "        <td>4</td>\n",
       "    </tr>\n",
       "    <tr>\n",
       "        <td>Safety_Icon</td>\n",
       "        <td>TEXT</td>\n",
       "        <td>4</td>\n",
       "    </tr>\n",
       "    <tr>\n",
       "        <td>SAFETY_SCORE</td>\n",
       "        <td>REAL</td>\n",
       "        <td>4</td>\n",
       "    </tr>\n",
       "    <tr>\n",
       "        <td>Family_Involvement_Icon</td>\n",
       "        <td>TEXT</td>\n",
       "        <td>4</td>\n",
       "    </tr>\n",
       "    <tr>\n",
       "        <td>Family_Involvement_Score</td>\n",
       "        <td>TEXT</td>\n",
       "        <td>4</td>\n",
       "    </tr>\n",
       "    <tr>\n",
       "        <td>Environment_Icon</td>\n",
       "        <td>TEXT</td>\n",
       "        <td>4</td>\n",
       "    </tr>\n",
       "    <tr>\n",
       "        <td>Environment_Score</td>\n",
       "        <td>REAL</td>\n",
       "        <td>4</td>\n",
       "    </tr>\n",
       "    <tr>\n",
       "        <td>Instruction_Icon</td>\n",
       "        <td>TEXT</td>\n",
       "        <td>4</td>\n",
       "    </tr>\n",
       "    <tr>\n",
       "        <td>Instruction_Score</td>\n",
       "        <td>REAL</td>\n",
       "        <td>4</td>\n",
       "    </tr>\n",
       "    <tr>\n",
       "        <td>Leaders_Icon</td>\n",
       "        <td>TEXT</td>\n",
       "        <td>4</td>\n",
       "    </tr>\n",
       "    <tr>\n",
       "        <td>Leaders_Score</td>\n",
       "        <td>TEXT</td>\n",
       "        <td>4</td>\n",
       "    </tr>\n",
       "    <tr>\n",
       "        <td>Teachers_Icon</td>\n",
       "        <td>TEXT</td>\n",
       "        <td>4</td>\n",
       "    </tr>\n",
       "    <tr>\n",
       "        <td>Teachers_Score</td>\n",
       "        <td>TEXT</td>\n",
       "        <td>4</td>\n",
       "    </tr>\n",
       "    <tr>\n",
       "        <td>Parent_Engagement_Icon</td>\n",
       "        <td>TEXT</td>\n",
       "        <td>4</td>\n",
       "    </tr>\n",
       "    <tr>\n",
       "        <td>Parent_Engagement_Score</td>\n",
       "        <td>TEXT</td>\n",
       "        <td>4</td>\n",
       "    </tr>\n",
       "    <tr>\n",
       "        <td>Parent_Environment_Icon</td>\n",
       "        <td>TEXT</td>\n",
       "        <td>4</td>\n",
       "    </tr>\n",
       "    <tr>\n",
       "        <td>Parent_Environment_Score</td>\n",
       "        <td>TEXT</td>\n",
       "        <td>4</td>\n",
       "    </tr>\n",
       "    <tr>\n",
       "        <td>AVERAGE_STUDENT_ATTENDANCE</td>\n",
       "        <td>TEXT</td>\n",
       "        <td>4</td>\n",
       "    </tr>\n",
       "    <tr>\n",
       "        <td>Rate_of_Misconducts__per_100_students_</td>\n",
       "        <td>REAL</td>\n",
       "        <td>4</td>\n",
       "    </tr>\n",
       "    <tr>\n",
       "        <td>Average_Teacher_Attendance</td>\n",
       "        <td>TEXT</td>\n",
       "        <td>4</td>\n",
       "    </tr>\n",
       "    <tr>\n",
       "        <td>Individualized_Education_Program_Compliance_Rate</td>\n",
       "        <td>TEXT</td>\n",
       "        <td>4</td>\n",
       "    </tr>\n",
       "    <tr>\n",
       "        <td>Pk_2_Literacy__</td>\n",
       "        <td>TEXT</td>\n",
       "        <td>4</td>\n",
       "    </tr>\n",
       "    <tr>\n",
       "        <td>Pk_2_Math__</td>\n",
       "        <td>TEXT</td>\n",
       "        <td>4</td>\n",
       "    </tr>\n",
       "    <tr>\n",
       "        <td>Gr3_5_Grade_Level_Math__</td>\n",
       "        <td>TEXT</td>\n",
       "        <td>4</td>\n",
       "    </tr>\n",
       "    <tr>\n",
       "        <td>Gr3_5_Grade_Level_Read__</td>\n",
       "        <td>TEXT</td>\n",
       "        <td>4</td>\n",
       "    </tr>\n",
       "    <tr>\n",
       "        <td>Gr3_5_Keep_Pace_Read__</td>\n",
       "        <td>TEXT</td>\n",
       "        <td>4</td>\n",
       "    </tr>\n",
       "    <tr>\n",
       "        <td>Gr3_5_Keep_Pace_Math__</td>\n",
       "        <td>TEXT</td>\n",
       "        <td>4</td>\n",
       "    </tr>\n",
       "    <tr>\n",
       "        <td>Gr6_8_Grade_Level_Math__</td>\n",
       "        <td>TEXT</td>\n",
       "        <td>4</td>\n",
       "    </tr>\n",
       "    <tr>\n",
       "        <td>Gr6_8_Grade_Level_Read__</td>\n",
       "        <td>TEXT</td>\n",
       "        <td>4</td>\n",
       "    </tr>\n",
       "    <tr>\n",
       "        <td>Gr6_8_Keep_Pace_Math_</td>\n",
       "        <td>TEXT</td>\n",
       "        <td>4</td>\n",
       "    </tr>\n",
       "    <tr>\n",
       "        <td>Gr6_8_Keep_Pace_Read__</td>\n",
       "        <td>TEXT</td>\n",
       "        <td>4</td>\n",
       "    </tr>\n",
       "    <tr>\n",
       "        <td>Gr_8_Explore_Math__</td>\n",
       "        <td>TEXT</td>\n",
       "        <td>4</td>\n",
       "    </tr>\n",
       "    <tr>\n",
       "        <td>Gr_8_Explore_Read__</td>\n",
       "        <td>TEXT</td>\n",
       "        <td>4</td>\n",
       "    </tr>\n",
       "    <tr>\n",
       "        <td>ISAT_Exceeding_Math__</td>\n",
       "        <td>REAL</td>\n",
       "        <td>4</td>\n",
       "    </tr>\n",
       "    <tr>\n",
       "        <td>ISAT_Exceeding_Reading__</td>\n",
       "        <td>REAL</td>\n",
       "        <td>4</td>\n",
       "    </tr>\n",
       "    <tr>\n",
       "        <td>ISAT_Value_Add_Math</td>\n",
       "        <td>REAL</td>\n",
       "        <td>4</td>\n",
       "    </tr>\n",
       "    <tr>\n",
       "        <td>ISAT_Value_Add_Read</td>\n",
       "        <td>REAL</td>\n",
       "        <td>4</td>\n",
       "    </tr>\n",
       "    <tr>\n",
       "        <td>ISAT_Value_Add_Color_Math</td>\n",
       "        <td>TEXT</td>\n",
       "        <td>4</td>\n",
       "    </tr>\n",
       "    <tr>\n",
       "        <td>ISAT_Value_Add_Color_Read</td>\n",
       "        <td>TEXT</td>\n",
       "        <td>4</td>\n",
       "    </tr>\n",
       "    <tr>\n",
       "        <td>Students_Taking__Algebra__</td>\n",
       "        <td>TEXT</td>\n",
       "        <td>4</td>\n",
       "    </tr>\n",
       "    <tr>\n",
       "        <td>Students_Passing__Algebra__</td>\n",
       "        <td>TEXT</td>\n",
       "        <td>4</td>\n",
       "    </tr>\n",
       "    <tr>\n",
       "        <td>9th Grade EXPLORE (2009)</td>\n",
       "        <td>TEXT</td>\n",
       "        <td>4</td>\n",
       "    </tr>\n",
       "    <tr>\n",
       "        <td>9th Grade EXPLORE (2010)</td>\n",
       "        <td>TEXT</td>\n",
       "        <td>4</td>\n",
       "    </tr>\n",
       "    <tr>\n",
       "        <td>10th Grade PLAN (2009)</td>\n",
       "        <td>TEXT</td>\n",
       "        <td>4</td>\n",
       "    </tr>\n",
       "    <tr>\n",
       "        <td>10th Grade PLAN (2010)</td>\n",
       "        <td>TEXT</td>\n",
       "        <td>4</td>\n",
       "    </tr>\n",
       "    <tr>\n",
       "        <td>Net_Change_EXPLORE_and_PLAN</td>\n",
       "        <td>TEXT</td>\n",
       "        <td>4</td>\n",
       "    </tr>\n",
       "    <tr>\n",
       "        <td>11th Grade Average ACT (2011)</td>\n",
       "        <td>TEXT</td>\n",
       "        <td>4</td>\n",
       "    </tr>\n",
       "    <tr>\n",
       "        <td>Net_Change_PLAN_and_ACT</td>\n",
       "        <td>TEXT</td>\n",
       "        <td>4</td>\n",
       "    </tr>\n",
       "    <tr>\n",
       "        <td>College_Eligibility__</td>\n",
       "        <td>TEXT</td>\n",
       "        <td>4</td>\n",
       "    </tr>\n",
       "    <tr>\n",
       "        <td>Graduation_Rate__</td>\n",
       "        <td>TEXT</td>\n",
       "        <td>4</td>\n",
       "    </tr>\n",
       "    <tr>\n",
       "        <td>College_Enrollment_Rate__</td>\n",
       "        <td>TEXT</td>\n",
       "        <td>4</td>\n",
       "    </tr>\n",
       "    <tr>\n",
       "        <td>COLLEGE_ENROLLMENT</td>\n",
       "        <td>INTEGER</td>\n",
       "        <td>7</td>\n",
       "    </tr>\n",
       "    <tr>\n",
       "        <td>General_Services_Route</td>\n",
       "        <td>INTEGER</td>\n",
       "        <td>7</td>\n",
       "    </tr>\n",
       "    <tr>\n",
       "        <td>Freshman_on_Track_Rate__</td>\n",
       "        <td>TEXT</td>\n",
       "        <td>4</td>\n",
       "    </tr>\n",
       "    <tr>\n",
       "        <td>X_COORDINATE</td>\n",
       "        <td>REAL</td>\n",
       "        <td>4</td>\n",
       "    </tr>\n",
       "    <tr>\n",
       "        <td>Y_COORDINATE</td>\n",
       "        <td>REAL</td>\n",
       "        <td>4</td>\n",
       "    </tr>\n",
       "    <tr>\n",
       "        <td>Latitude</td>\n",
       "        <td>REAL</td>\n",
       "        <td>4</td>\n",
       "    </tr>\n",
       "    <tr>\n",
       "        <td>Longitude</td>\n",
       "        <td>REAL</td>\n",
       "        <td>4</td>\n",
       "    </tr>\n",
       "    <tr>\n",
       "        <td>COMMUNITY_AREA_NUMBER</td>\n",
       "        <td>INTEGER</td>\n",
       "        <td>7</td>\n",
       "    </tr>\n",
       "    <tr>\n",
       "        <td>COMMUNITY_AREA_NAME</td>\n",
       "        <td>TEXT</td>\n",
       "        <td>4</td>\n",
       "    </tr>\n",
       "    <tr>\n",
       "        <td>Ward</td>\n",
       "        <td>INTEGER</td>\n",
       "        <td>7</td>\n",
       "    </tr>\n",
       "    <tr>\n",
       "        <td>Police_District</td>\n",
       "        <td>INTEGER</td>\n",
       "        <td>7</td>\n",
       "    </tr>\n",
       "    <tr>\n",
       "        <td>Location</td>\n",
       "        <td>TEXT</td>\n",
       "        <td>4</td>\n",
       "    </tr>\n",
       "</table>"
      ],
      "text/plain": [
       "[('School_ID', 'INTEGER', 7),\n",
       " ('NAME_OF_SCHOOL', 'TEXT', 4),\n",
       " ('Elementary, Middle, or High School', 'TEXT', 4),\n",
       " ('Street_Address', 'TEXT', 4),\n",
       " ('City', 'TEXT', 4),\n",
       " ('State', 'TEXT', 4),\n",
       " ('ZIP_Code', 'INTEGER', 7),\n",
       " ('Phone_Number', 'TEXT', 4),\n",
       " ('Link', 'TEXT', 4),\n",
       " ('Network_Manager', 'TEXT', 4),\n",
       " ('Collaborative_Name', 'TEXT', 4),\n",
       " ('Adequate_Yearly_Progress_Made_', 'TEXT', 4),\n",
       " ('Track_Schedule', 'TEXT', 4),\n",
       " ('CPS_Performance_Policy_Status', 'TEXT', 4),\n",
       " ('CPS_Performance_Policy_Level', 'TEXT', 4),\n",
       " ('HEALTHY_SCHOOL_CERTIFIED', 'TEXT', 4),\n",
       " ('Safety_Icon', 'TEXT', 4),\n",
       " ('SAFETY_SCORE', 'REAL', 4),\n",
       " ('Family_Involvement_Icon', 'TEXT', 4),\n",
       " ('Family_Involvement_Score', 'TEXT', 4),\n",
       " ('Environment_Icon', 'TEXT', 4),\n",
       " ('Environment_Score', 'REAL', 4),\n",
       " ('Instruction_Icon', 'TEXT', 4),\n",
       " ('Instruction_Score', 'REAL', 4),\n",
       " ('Leaders_Icon', 'TEXT', 4),\n",
       " ('Leaders_Score', 'TEXT', 4),\n",
       " ('Teachers_Icon', 'TEXT', 4),\n",
       " ('Teachers_Score', 'TEXT', 4),\n",
       " ('Parent_Engagement_Icon', 'TEXT', 4),\n",
       " ('Parent_Engagement_Score', 'TEXT', 4),\n",
       " ('Parent_Environment_Icon', 'TEXT', 4),\n",
       " ('Parent_Environment_Score', 'TEXT', 4),\n",
       " ('AVERAGE_STUDENT_ATTENDANCE', 'TEXT', 4),\n",
       " ('Rate_of_Misconducts__per_100_students_', 'REAL', 4),\n",
       " ('Average_Teacher_Attendance', 'TEXT', 4),\n",
       " ('Individualized_Education_Program_Compliance_Rate', 'TEXT', 4),\n",
       " ('Pk_2_Literacy__', 'TEXT', 4),\n",
       " ('Pk_2_Math__', 'TEXT', 4),\n",
       " ('Gr3_5_Grade_Level_Math__', 'TEXT', 4),\n",
       " ('Gr3_5_Grade_Level_Read__', 'TEXT', 4),\n",
       " ('Gr3_5_Keep_Pace_Read__', 'TEXT', 4),\n",
       " ('Gr3_5_Keep_Pace_Math__', 'TEXT', 4),\n",
       " ('Gr6_8_Grade_Level_Math__', 'TEXT', 4),\n",
       " ('Gr6_8_Grade_Level_Read__', 'TEXT', 4),\n",
       " ('Gr6_8_Keep_Pace_Math_', 'TEXT', 4),\n",
       " ('Gr6_8_Keep_Pace_Read__', 'TEXT', 4),\n",
       " ('Gr_8_Explore_Math__', 'TEXT', 4),\n",
       " ('Gr_8_Explore_Read__', 'TEXT', 4),\n",
       " ('ISAT_Exceeding_Math__', 'REAL', 4),\n",
       " ('ISAT_Exceeding_Reading__', 'REAL', 4),\n",
       " ('ISAT_Value_Add_Math', 'REAL', 4),\n",
       " ('ISAT_Value_Add_Read', 'REAL', 4),\n",
       " ('ISAT_Value_Add_Color_Math', 'TEXT', 4),\n",
       " ('ISAT_Value_Add_Color_Read', 'TEXT', 4),\n",
       " ('Students_Taking__Algebra__', 'TEXT', 4),\n",
       " ('Students_Passing__Algebra__', 'TEXT', 4),\n",
       " ('9th Grade EXPLORE (2009)', 'TEXT', 4),\n",
       " ('9th Grade EXPLORE (2010)', 'TEXT', 4),\n",
       " ('10th Grade PLAN (2009)', 'TEXT', 4),\n",
       " ('10th Grade PLAN (2010)', 'TEXT', 4),\n",
       " ('Net_Change_EXPLORE_and_PLAN', 'TEXT', 4),\n",
       " ('11th Grade Average ACT (2011)', 'TEXT', 4),\n",
       " ('Net_Change_PLAN_and_ACT', 'TEXT', 4),\n",
       " ('College_Eligibility__', 'TEXT', 4),\n",
       " ('Graduation_Rate__', 'TEXT', 4),\n",
       " ('College_Enrollment_Rate__', 'TEXT', 4),\n",
       " ('COLLEGE_ENROLLMENT', 'INTEGER', 7),\n",
       " ('General_Services_Route', 'INTEGER', 7),\n",
       " ('Freshman_on_Track_Rate__', 'TEXT', 4),\n",
       " ('X_COORDINATE', 'REAL', 4),\n",
       " ('Y_COORDINATE', 'REAL', 4),\n",
       " ('Latitude', 'REAL', 4),\n",
       " ('Longitude', 'REAL', 4),\n",
       " ('COMMUNITY_AREA_NUMBER', 'INTEGER', 7),\n",
       " ('COMMUNITY_AREA_NAME', 'TEXT', 4),\n",
       " ('Ward', 'INTEGER', 7),\n",
       " ('Police_District', 'INTEGER', 7),\n",
       " ('Location', 'TEXT', 4)]"
      ]
     },
     "execution_count": 13,
     "metadata": {},
     "output_type": "execute_result"
    }
   ],
   "source": [
    "# type in your query to retrieve all column names in the SCHOOLS table along with their datatypes and length\n",
    "%sql SELECT name,type,length(type) FROM PRAGMA_TABLE_INFO('SCHOOLS');"
   ]
  },
  {
   "cell_type": "markdown",
   "metadata": {},
   "source": [
    "Double-click **here** for the solution.\n",
    "\n",
    "<!-- Solution \n",
    "\n",
    "%sql SELECT name,type,length(type) FROM PRAGMA_TABLE_INFO('CHICAGO_PUBLIC_SCHOOLS_DATA');\n",
    "\n",
    "-->\n"
   ]
  },
  {
   "cell_type": "markdown",
   "metadata": {},
   "source": [
    "### Questions\n",
    "\n",
    "1.  Is the column name for the \"SCHOOL ID\" attribute in upper or mixed case? Mixed case\n",
    "2.  What is the name of \"Community Area Name\" column in your table? Does it have spaces? COMMUNITY_AREA_NAME, it does not have spaces\n",
    "3.  Are there any columns in whose names the spaces and paranthesis (round brackets) have been replaced by the underscore character \"\\_\"? yes, for ex. column Rate of Misconduct (per 100 students) became Rate_of_Misconduct__per_100_students_\n"
   ]
  },
  {
   "cell_type": "markdown",
   "metadata": {},
   "source": [
    "## Problems\n",
    "\n",
    "### Problem 1\n",
    "\n",
    "##### How many Elementary Schools are in the dataset?\n"
   ]
  },
  {
   "cell_type": "code",
   "execution_count": 20,
   "metadata": {},
   "outputs": [
    {
     "name": "stdout",
     "output_type": "stream",
     "text": [
      " * sqlite:///RealWorldData.db\n",
      "Done.\n"
     ]
    },
    {
     "data": {
      "text/html": [
       "<table>\n",
       "    <tr>\n",
       "        <th>count(*)</th>\n",
       "    </tr>\n",
       "    <tr>\n",
       "        <td>462</td>\n",
       "    </tr>\n",
       "</table>"
      ],
      "text/plain": [
       "[(462,)]"
      ]
     },
     "execution_count": 20,
     "metadata": {},
     "output_type": "execute_result"
    }
   ],
   "source": [
    "%%sql \n",
    "select count(*) from SCHOOLS where \"Elementary, Middle, or High School\"='ES'"
   ]
  },
  {
   "cell_type": "markdown",
   "metadata": {},
   "source": [
    "Double-click **here** for a hint\n",
    "\n",
    "<!--\n",
    "Which column specifies the school type e.g. 'ES', 'MS', 'HS'? (\"Elementary School, Middle School, High School\")\n",
    "-->\n"
   ]
  },
  {
   "cell_type": "markdown",
   "metadata": {},
   "source": [
    "Double-click **here** for another hint\n",
    "\n",
    "<!--\n",
    "Does the column name have mixed case, spaces or other special characters?\n",
    "If so, ensure you use double quotes around the \"Name of the Column\"\n",
    "-->\n"
   ]
  },
  {
   "cell_type": "markdown",
   "metadata": {},
   "source": [
    "Double-click **here** for the solution.\n",
    "\n",
    "<!-- Solution:\n",
    "\n",
    "%sql select count(*) from CHICAGO_PUBLIC_SCHOOLS_DATA where \"Elementary, Middle, or High School\"='ES'\n",
    "\n",
    "Correct answer: 462\n",
    "\n",
    "-->\n"
   ]
  },
  {
   "cell_type": "markdown",
   "metadata": {},
   "source": [
    "### Problem 2\n",
    "\n",
    "##### What is the highest Safety Score?\n"
   ]
  },
  {
   "cell_type": "code",
   "execution_count": 21,
   "metadata": {},
   "outputs": [
    {
     "name": "stdout",
     "output_type": "stream",
     "text": [
      " * sqlite:///RealWorldData.db\n",
      "Done.\n"
     ]
    },
    {
     "data": {
      "text/html": [
       "<table>\n",
       "    <tr>\n",
       "        <th>max(SAFETY_SCORE)</th>\n",
       "    </tr>\n",
       "    <tr>\n",
       "        <td>99.0</td>\n",
       "    </tr>\n",
       "</table>"
      ],
      "text/plain": [
       "[(99.0,)]"
      ]
     },
     "execution_count": 21,
     "metadata": {},
     "output_type": "execute_result"
    }
   ],
   "source": [
    "%sql select max(SAFETY_SCORE) from SCHOOLS;\n"
   ]
  },
  {
   "cell_type": "markdown",
   "metadata": {},
   "source": [
    "Double-click **here** for a hint\n",
    "\n",
    "<!--\n",
    "Use the MAX() function\n",
    "-->\n"
   ]
  },
  {
   "cell_type": "markdown",
   "metadata": {},
   "source": [
    "Double-click **here** for the solution.\n",
    "\n",
    "<!-- Hint:\n",
    "\n",
    "%sql select MAX(Safety_Score) AS MAX_SAFETY_SCORE from CHICAGO_PUBLIC_SCHOOLS_DATA\n",
    "\n",
    "Correct answer: 99\n",
    "-->\n"
   ]
  },
  {
   "cell_type": "markdown",
   "metadata": {},
   "source": [
    "### Problem 3\n",
    "\n",
    "##### Which schools have highest Safety Score?\n"
   ]
  },
  {
   "cell_type": "code",
   "execution_count": 23,
   "metadata": {},
   "outputs": [
    {
     "name": "stdout",
     "output_type": "stream",
     "text": [
      " * sqlite:///RealWorldData.db\n",
      "Done.\n"
     ]
    },
    {
     "data": {
      "text/html": [
       "<table>\n",
       "    <tr>\n",
       "        <th>School_ID</th>\n",
       "        <th>NAME_OF_SCHOOL</th>\n",
       "    </tr>\n",
       "    <tr>\n",
       "        <td>610038</td>\n",
       "        <td>Abraham Lincoln Elementary School</td>\n",
       "    </tr>\n",
       "    <tr>\n",
       "        <td>609799</td>\n",
       "        <td>Alexander Graham Bell Elementary School</td>\n",
       "    </tr>\n",
       "    <tr>\n",
       "        <td>610084</td>\n",
       "        <td>Annie Keller Elementary Gifted Magnet School</td>\n",
       "    </tr>\n",
       "    <tr>\n",
       "        <td>609820</td>\n",
       "        <td>Augustus H Burley Elementary School</td>\n",
       "    </tr>\n",
       "    <tr>\n",
       "        <td>610132</td>\n",
       "        <td>Edgar Allan Poe Elementary Classical School</td>\n",
       "    </tr>\n",
       "    <tr>\n",
       "        <td>609901</td>\n",
       "        <td>Edgebrook Elementary School</td>\n",
       "    </tr>\n",
       "    <tr>\n",
       "        <td>610073</td>\n",
       "        <td>Ellen Mitchell Elementary School</td>\n",
       "    </tr>\n",
       "    <tr>\n",
       "        <td>610066</td>\n",
       "        <td>James E McDade Elementary Classical School</td>\n",
       "    </tr>\n",
       "    <tr>\n",
       "        <td>609803</td>\n",
       "        <td>James G Blaine Elementary School</td>\n",
       "    </tr>\n",
       "    <tr>\n",
       "        <td>610033</td>\n",
       "        <td>LaSalle Elementary Language Academy</td>\n",
       "    </tr>\n",
       "    <tr>\n",
       "        <td>610355</td>\n",
       "        <td>Mary E Courtenay Elementary Language Arts Center</td>\n",
       "    </tr>\n",
       "    <tr>\n",
       "        <td>609749</td>\n",
       "        <td>Northside College Preparatory High School</td>\n",
       "    </tr>\n",
       "    <tr>\n",
       "        <td>609744</td>\n",
       "        <td>Northside Learning Center High School</td>\n",
       "    </tr>\n",
       "    <tr>\n",
       "        <td>610099</td>\n",
       "        <td>Norwood Park Elementary School</td>\n",
       "    </tr>\n",
       "    <tr>\n",
       "        <td>610105</td>\n",
       "        <td>Oriole Park Elementary School</td>\n",
       "    </tr>\n",
       "    <tr>\n",
       "        <td>610155</td>\n",
       "        <td>Sauganash Elementary School</td>\n",
       "    </tr>\n",
       "    <tr>\n",
       "        <td>609880</td>\n",
       "        <td>Stephen Decatur Classical Elementary School</td>\n",
       "    </tr>\n",
       "    <tr>\n",
       "        <td>610249</td>\n",
       "        <td>Talman Elementary School</td>\n",
       "    </tr>\n",
       "    <tr>\n",
       "        <td>610230</td>\n",
       "        <td>Wildwood Elementary School</td>\n",
       "    </tr>\n",
       "</table>"
      ],
      "text/plain": [
       "[(610038, 'Abraham Lincoln Elementary School'),\n",
       " (609799, 'Alexander Graham Bell Elementary School'),\n",
       " (610084, 'Annie Keller Elementary Gifted Magnet School'),\n",
       " (609820, 'Augustus H Burley Elementary School'),\n",
       " (610132, 'Edgar Allan Poe Elementary Classical School'),\n",
       " (609901, 'Edgebrook Elementary School'),\n",
       " (610073, 'Ellen Mitchell Elementary School'),\n",
       " (610066, 'James E McDade Elementary Classical School'),\n",
       " (609803, 'James G Blaine Elementary School'),\n",
       " (610033, 'LaSalle Elementary Language Academy'),\n",
       " (610355, 'Mary E Courtenay Elementary Language Arts Center'),\n",
       " (609749, 'Northside College Preparatory High School'),\n",
       " (609744, 'Northside Learning Center High School'),\n",
       " (610099, 'Norwood Park Elementary School'),\n",
       " (610105, 'Oriole Park Elementary School'),\n",
       " (610155, 'Sauganash Elementary School'),\n",
       " (609880, 'Stephen Decatur Classical Elementary School'),\n",
       " (610249, 'Talman Elementary School'),\n",
       " (610230, 'Wildwood Elementary School')]"
      ]
     },
     "execution_count": 23,
     "metadata": {},
     "output_type": "execute_result"
    }
   ],
   "source": [
    "%%sql \n",
    "select \"School_ID\", NAME_OF_SCHOOL from SCHOOLS WHERE SAFETY_SCORE = (select max(SAFETY_SCORE) from SCHOOLS);\n"
   ]
  },
  {
   "cell_type": "markdown",
   "metadata": {},
   "source": [
    "Double-click **here** for the solution.\n",
    "\n",
    "<!-- Solution:\n",
    "In the previous problem we found out that the highest Safety Score is 99, so we can use that as an input in the where clause:\n",
    "\n",
    "%sql select Name_of_School, Safety_Score from CHICAGO_PUBLIC_SCHOOLS_DATA where Safety_Score = 99\n",
    "\n",
    "or, a better way:\n",
    "\n",
    "%sql select Name_of_School, Safety_Score from CHICAGO_PUBLIC_SCHOOLS_DATA where \\\n",
    "  Safety_Score= (select MAX(Safety_Score) from CHICAGO_PUBLIC_SCHOOLS_DATA)\n",
    "\n",
    "\n",
    "Correct answer: several schools with with Safety Score of 99.\n",
    "-->\n"
   ]
  },
  {
   "cell_type": "markdown",
   "metadata": {},
   "source": [
    "### Problem 4\n",
    "\n",
    "##### What are the top 10 schools with the highest \"Average Student Attendance\"?\n"
   ]
  },
  {
   "cell_type": "code",
   "execution_count": 29,
   "metadata": {},
   "outputs": [
    {
     "name": "stdout",
     "output_type": "stream",
     "text": [
      " * sqlite:///RealWorldData.db\n",
      "Done.\n"
     ]
    },
    {
     "data": {
      "text/html": [
       "<table>\n",
       "    <tr>\n",
       "        <th>School_ID</th>\n",
       "        <th>NAME_OF_SCHOOL</th>\n",
       "        <th>AVERAGE_STUDENT_ATTENDANCE</th>\n",
       "    </tr>\n",
       "    <tr>\n",
       "        <td>609959</td>\n",
       "        <td>John Charles Haines Elementary School</td>\n",
       "        <td>98.40%</td>\n",
       "    </tr>\n",
       "    <tr>\n",
       "        <td>610217</td>\n",
       "        <td>James Ward Elementary School</td>\n",
       "        <td>97.80%</td>\n",
       "    </tr>\n",
       "    <tr>\n",
       "        <td>610132</td>\n",
       "        <td>Edgar Allan Poe Elementary Classical School</td>\n",
       "        <td>97.60%</td>\n",
       "    </tr>\n",
       "    <tr>\n",
       "        <td>610329</td>\n",
       "        <td>Orozco Fine Arts &amp; Sciences Elementary School</td>\n",
       "        <td>97.60%</td>\n",
       "    </tr>\n",
       "    <tr>\n",
       "        <td>609842</td>\n",
       "        <td>Rachel Carson Elementary School</td>\n",
       "        <td>97.60%</td>\n",
       "    </tr>\n",
       "    <tr>\n",
       "        <td>610084</td>\n",
       "        <td>Annie Keller Elementary Gifted Magnet School</td>\n",
       "        <td>97.50%</td>\n",
       "    </tr>\n",
       "    <tr>\n",
       "        <td>610060</td>\n",
       "        <td>Andrew Jackson Elementary Language Academy</td>\n",
       "        <td>97.40%</td>\n",
       "    </tr>\n",
       "    <tr>\n",
       "        <td>610298</td>\n",
       "        <td>Lenart Elementary Regional Gifted Center</td>\n",
       "        <td>97.40%</td>\n",
       "    </tr>\n",
       "    <tr>\n",
       "        <td>610515</td>\n",
       "        <td>Disney II Magnet School</td>\n",
       "        <td>97.30%</td>\n",
       "    </tr>\n",
       "    <tr>\n",
       "        <td>610207</td>\n",
       "        <td>John H Vanderpoel Elementary Magnet School</td>\n",
       "        <td>97.20%</td>\n",
       "    </tr>\n",
       "</table>"
      ],
      "text/plain": [
       "[(609959, 'John Charles Haines Elementary School', '98.40%'),\n",
       " (610217, 'James Ward Elementary School', '97.80%'),\n",
       " (610132, 'Edgar Allan Poe Elementary Classical School', '97.60%'),\n",
       " (610329, 'Orozco Fine Arts & Sciences Elementary School', '97.60%'),\n",
       " (609842, 'Rachel Carson Elementary School', '97.60%'),\n",
       " (610084, 'Annie Keller Elementary Gifted Magnet School', '97.50%'),\n",
       " (610060, 'Andrew Jackson Elementary Language Academy', '97.40%'),\n",
       " (610298, 'Lenart Elementary Regional Gifted Center', '97.40%'),\n",
       " (610515, 'Disney II Magnet School', '97.30%'),\n",
       " (610207, 'John H Vanderpoel Elementary Magnet School', '97.20%')]"
      ]
     },
     "execution_count": 29,
     "metadata": {},
     "output_type": "execute_result"
    }
   ],
   "source": [
    "%%sql\n",
    "select \"School_ID\", NAME_OF_SCHOOL, AVERAGE_STUDENT_ATTENDANCE from SCHOOLS\n",
    "order by AVERAGE_STUDENT_ATTENDANCE desc limit 10"
   ]
  },
  {
   "cell_type": "markdown",
   "metadata": {},
   "source": [
    "Double-click **here** for the solution.\n",
    "\n",
    "<!-- Solution:\n",
    "\n",
    "%sql select Name_of_School, Average_Student_Attendance from CHICAGO_PUBLIC_SCHOOLS_DATA \\\n",
    "    order by Average_Student_Attendance desc nulls last limit 10 \n",
    "\n",
    "-->\n"
   ]
  },
  {
   "cell_type": "markdown",
   "metadata": {},
   "source": [
    "### Problem 5\n",
    "\n",
    "##### Retrieve the list of 5 Schools with the lowest Average Student Attendance sorted in ascending order based on attendance\n"
   ]
  },
  {
   "cell_type": "code",
   "execution_count": 30,
   "metadata": {},
   "outputs": [
    {
     "name": "stdout",
     "output_type": "stream",
     "text": [
      " * sqlite:///RealWorldData.db\n",
      "Done.\n"
     ]
    },
    {
     "data": {
      "text/html": [
       "<table>\n",
       "    <tr>\n",
       "        <th>School_ID</th>\n",
       "        <th>NAME_OF_SCHOOL</th>\n",
       "        <th>AVERAGE_STUDENT_ATTENDANCE</th>\n",
       "    </tr>\n",
       "    <tr>\n",
       "        <td>610504</td>\n",
       "        <td>Velma F Thomas Early Childhood Center</td>\n",
       "        <td>None</td>\n",
       "    </tr>\n",
       "    <tr>\n",
       "        <td>609702</td>\n",
       "        <td>Richard T Crane Technical Preparatory High School</td>\n",
       "        <td>57.90%</td>\n",
       "    </tr>\n",
       "    <tr>\n",
       "        <td>609871</td>\n",
       "        <td>Barbara Vick Early Childhood &amp; Family Center</td>\n",
       "        <td>60.90%</td>\n",
       "    </tr>\n",
       "    <tr>\n",
       "        <td>609736</td>\n",
       "        <td>Dyett High School</td>\n",
       "        <td>62.50%</td>\n",
       "    </tr>\n",
       "    <tr>\n",
       "        <td>609727</td>\n",
       "        <td>Wendell Phillips Academy High School</td>\n",
       "        <td>63.00%</td>\n",
       "    </tr>\n",
       "</table>"
      ],
      "text/plain": [
       "[(610504, 'Velma F Thomas Early Childhood Center', None),\n",
       " (609702, 'Richard T Crane Technical Preparatory High School', '57.90%'),\n",
       " (609871, 'Barbara Vick Early Childhood & Family Center', '60.90%'),\n",
       " (609736, 'Dyett High School', '62.50%'),\n",
       " (609727, 'Wendell Phillips Academy High School', '63.00%')]"
      ]
     },
     "execution_count": 30,
     "metadata": {},
     "output_type": "execute_result"
    }
   ],
   "source": [
    "%%sql\n",
    "select \"School_ID\", NAME_OF_SCHOOL, AVERAGE_STUDENT_ATTENDANCE from SCHOOLS\n",
    "order by Average_Student_Attendance\n",
    "LIMIT 5"
   ]
  },
  {
   "cell_type": "markdown",
   "metadata": {},
   "source": [
    "Double-click **here** for the solution.\n",
    "\n",
    "<!-- Solution:\n",
    "\n",
    "%sql SELECT Name_of_School, Average_Student_Attendance  \\\n",
    "     from CHICAGO_PUBLIC_SCHOOLS_DATA \\\n",
    "     order by Average_Student_Attendance \\\n",
    "     LIMIT 5\n",
    "\n",
    "-->\n"
   ]
  },
  {
   "cell_type": "markdown",
   "metadata": {},
   "source": [
    "### Problem 6\n",
    "\n",
    "##### Now remove the '%' sign from the above result set for Average Student Attendance column\n"
   ]
  },
  {
   "cell_type": "code",
   "execution_count": 32,
   "metadata": {},
   "outputs": [
    {
     "name": "stdout",
     "output_type": "stream",
     "text": [
      " * sqlite:///RealWorldData.db\n",
      "Done.\n"
     ]
    },
    {
     "data": {
      "text/html": [
       "<table>\n",
       "    <tr>\n",
       "        <th>NAME_OF_SCHOOL</th>\n",
       "        <th>REPLACE(Average_Student_Attendance, &#x27;%&#x27; , &#x27;&#x27; )</th>\n",
       "    </tr>\n",
       "    <tr>\n",
       "        <td>Velma F Thomas Early Childhood Center</td>\n",
       "        <td>None</td>\n",
       "    </tr>\n",
       "    <tr>\n",
       "        <td>Richard T Crane Technical Preparatory High School</td>\n",
       "        <td>57.90</td>\n",
       "    </tr>\n",
       "    <tr>\n",
       "        <td>Barbara Vick Early Childhood &amp; Family Center</td>\n",
       "        <td>60.90</td>\n",
       "    </tr>\n",
       "    <tr>\n",
       "        <td>Dyett High School</td>\n",
       "        <td>62.50</td>\n",
       "    </tr>\n",
       "    <tr>\n",
       "        <td>Wendell Phillips Academy High School</td>\n",
       "        <td>63.00</td>\n",
       "    </tr>\n",
       "</table>"
      ],
      "text/plain": [
       "[('Velma F Thomas Early Childhood Center', None),\n",
       " ('Richard T Crane Technical Preparatory High School', '57.90'),\n",
       " ('Barbara Vick Early Childhood & Family Center', '60.90'),\n",
       " ('Dyett High School', '62.50'),\n",
       " ('Wendell Phillips Academy High School', '63.00')]"
      ]
     },
     "execution_count": 32,
     "metadata": {},
     "output_type": "execute_result"
    }
   ],
   "source": [
    "%sql SELECT Name_of_School, REPLACE(Average_Student_Attendance, '%', '') \\\n",
    "     from SCHOOLS \\\n",
    "     order by Average_Student_Attendance \\\n",
    "     LIMIT 5"
   ]
  },
  {
   "cell_type": "markdown",
   "metadata": {},
   "source": [
    "Double-click **here** for a hint\n",
    "\n",
    "<!--\n",
    "Use the REPLACE() function to replace '%' with ''\n",
    "\n",
    "-->\n"
   ]
  },
  {
   "cell_type": "markdown",
   "metadata": {},
   "source": [
    "Double-click **here** for the solution.\n",
    "\n",
    "<!-- Hint:\n",
    "\n",
    "%sql SELECT Name_of_School, REPLACE(Average_Student_Attendance, '%', '') \\\n",
    "     from CHICAGO_PUBLIC_SCHOOLS_DATA \\\n",
    "     order by Average_Student_Attendance \\\n",
    "     LIMIT 5\n",
    "\n",
    "-->\n"
   ]
  },
  {
   "cell_type": "markdown",
   "metadata": {},
   "source": [
    "### Problem 7\n",
    "\n",
    "##### Which Schools have Average Student Attendance lower than 70%?\n"
   ]
  },
  {
   "cell_type": "code",
   "execution_count": 34,
   "metadata": {},
   "outputs": [
    {
     "name": "stdout",
     "output_type": "stream",
     "text": [
      " * sqlite:///RealWorldData.db\n",
      "Done.\n"
     ]
    },
    {
     "data": {
      "text/html": [
       "<table>\n",
       "    <tr>\n",
       "        <th>NAME_OF_SCHOOL</th>\n",
       "        <th>AVERAGE_STUDENT_ATTENDANCE</th>\n",
       "    </tr>\n",
       "    <tr>\n",
       "        <td>Barbara Vick Early Childhood &amp; Family Center</td>\n",
       "        <td>60.90%</td>\n",
       "    </tr>\n",
       "    <tr>\n",
       "        <td>Chicago Vocational Career Academy High School</td>\n",
       "        <td>68.80%</td>\n",
       "    </tr>\n",
       "    <tr>\n",
       "        <td>Dyett High School</td>\n",
       "        <td>62.50%</td>\n",
       "    </tr>\n",
       "    <tr>\n",
       "        <td>Manley Career Academy High School</td>\n",
       "        <td>66.80%</td>\n",
       "    </tr>\n",
       "    <tr>\n",
       "        <td>Orr Academy High School</td>\n",
       "        <td>66.30%</td>\n",
       "    </tr>\n",
       "    <tr>\n",
       "        <td>Richard T Crane Technical Preparatory High School</td>\n",
       "        <td>57.90%</td>\n",
       "    </tr>\n",
       "    <tr>\n",
       "        <td>Roberto Clemente Community Academy High School</td>\n",
       "        <td>69.60%</td>\n",
       "    </tr>\n",
       "    <tr>\n",
       "        <td>Wendell Phillips Academy High School</td>\n",
       "        <td>63.00%</td>\n",
       "    </tr>\n",
       "</table>"
      ],
      "text/plain": [
       "[('Barbara Vick Early Childhood & Family Center', '60.90%'),\n",
       " ('Chicago Vocational Career Academy High School', '68.80%'),\n",
       " ('Dyett High School', '62.50%'),\n",
       " ('Manley Career Academy High School', '66.80%'),\n",
       " ('Orr Academy High School', '66.30%'),\n",
       " ('Richard T Crane Technical Preparatory High School', '57.90%'),\n",
       " ('Roberto Clemente Community Academy High School', '69.60%'),\n",
       " ('Wendell Phillips Academy High School', '63.00%')]"
      ]
     },
     "execution_count": 34,
     "metadata": {},
     "output_type": "execute_result"
    }
   ],
   "source": [
    "%sql SELECT Name_of_School, Average_Student_Attendance\\\n",
    "     from SCHOOLS \\\n",
    "     WHERE cast(replace(\"AVERAGE_STUDENT_ATTENDANCE\", '%', '') as decimal) < 70"
   ]
  },
  {
   "cell_type": "markdown",
   "metadata": {},
   "source": [
    "Double-click **here** for a hint\n",
    "\n",
    "<!--\n",
    "The datatype of the \"Average_Student_Attendance\" column is varchar.\n",
    "So you cannot use it as is in the where clause for a numeric comparison.\n",
    "First use the CAST() function to cast it as a DECIMAL or DOUBLE\n",
    "e.g. CAST(\"Column_Name\" as DOUBLE)\n",
    "\n",
    "-->\n"
   ]
  },
  {
   "cell_type": "markdown",
   "metadata": {},
   "source": [
    "Double-click **here** for another hint\n",
    "\n",
    "<!--\n",
    "Don't forget the '%' age sign needs to be removed before casting\n",
    "-->\n"
   ]
  },
  {
   "cell_type": "markdown",
   "metadata": {},
   "source": [
    "Double-click **here** for the solution.\n",
    "\n",
    "<!-- Solution:\n",
    "\n",
    "%sql SELECT Name_of_School, Average_Student_Attendance  \\\n",
    "     from CHICAGO_PUBLIC_SCHOOLS_DATA \\\n",
    "     where CAST ( REPLACE(Average_Student_Attendance, '%', '') AS DOUBLE ) < 70 \\\n",
    "     order by Average_Student_Attendance\n",
    "     \n",
    "\n",
    "-->\n"
   ]
  },
  {
   "cell_type": "markdown",
   "metadata": {},
   "source": [
    "### Problem 8\n",
    "\n",
    "##### Get the total College Enrollment for each Community Area\n"
   ]
  },
  {
   "cell_type": "code",
   "execution_count": 38,
   "metadata": {},
   "outputs": [
    {
     "name": "stdout",
     "output_type": "stream",
     "text": [
      " * sqlite:///RealWorldData.db\n",
      "Done.\n"
     ]
    },
    {
     "data": {
      "text/html": [
       "<table>\n",
       "    <tr>\n",
       "        <th>COMMUNITY_AREA_NUMBER</th>\n",
       "        <th>COMMUNITY_AREA_NAME</th>\n",
       "        <th>Total_College_Enrollment</th>\n",
       "    </tr>\n",
       "    <tr>\n",
       "        <td>14</td>\n",
       "        <td>ALBANY PARK</td>\n",
       "        <td>42.9</td>\n",
       "    </tr>\n",
       "    <tr>\n",
       "        <td>57</td>\n",
       "        <td>ARCHER HEIGHTS</td>\n",
       "        <td>61.3</td>\n",
       "    </tr>\n",
       "    <tr>\n",
       "        <td>34</td>\n",
       "        <td>ARMOUR SQUARE</td>\n",
       "        <td>0.0</td>\n",
       "    </tr>\n",
       "    <tr>\n",
       "        <td>70</td>\n",
       "        <td>ASHBURN</td>\n",
       "        <td>50.0</td>\n",
       "    </tr>\n",
       "    <tr>\n",
       "        <td>71</td>\n",
       "        <td>AUBURN GRESHAM</td>\n",
       "        <td>0.0</td>\n",
       "    </tr>\n",
       "    <tr>\n",
       "        <td>25</td>\n",
       "        <td>AUSTIN</td>\n",
       "        <td>151.2</td>\n",
       "    </tr>\n",
       "    <tr>\n",
       "        <td>45</td>\n",
       "        <td>AVALON PARK</td>\n",
       "        <td>54.0</td>\n",
       "    </tr>\n",
       "    <tr>\n",
       "        <td>21</td>\n",
       "        <td>AVONDALE</td>\n",
       "        <td>0.0</td>\n",
       "    </tr>\n",
       "    <tr>\n",
       "        <td>19</td>\n",
       "        <td>BELMONT CRAGIN</td>\n",
       "        <td>105.0</td>\n",
       "    </tr>\n",
       "    <tr>\n",
       "        <td>72</td>\n",
       "        <td>BEVERLY</td>\n",
       "        <td>0.0</td>\n",
       "    </tr>\n",
       "    <tr>\n",
       "        <td>60</td>\n",
       "        <td>BRIDGEPORT</td>\n",
       "        <td>0.0</td>\n",
       "    </tr>\n",
       "    <tr>\n",
       "        <td>58</td>\n",
       "        <td>BRIGHTON PARK</td>\n",
       "        <td>46.4</td>\n",
       "    </tr>\n",
       "    <tr>\n",
       "        <td>47</td>\n",
       "        <td>BURNSIDE</td>\n",
       "        <td>0.0</td>\n",
       "    </tr>\n",
       "    <tr>\n",
       "        <td>48</td>\n",
       "        <td>CALUMET HEIGHTS</td>\n",
       "        <td>0.0</td>\n",
       "    </tr>\n",
       "    <tr>\n",
       "        <td>44</td>\n",
       "        <td>CHATHAM</td>\n",
       "        <td>74.0</td>\n",
       "    </tr>\n",
       "    <tr>\n",
       "        <td>66</td>\n",
       "        <td>CHICAGO LAWN</td>\n",
       "        <td>0.0</td>\n",
       "    </tr>\n",
       "    <tr>\n",
       "        <td>64</td>\n",
       "        <td>CLEARING</td>\n",
       "        <td>0.0</td>\n",
       "    </tr>\n",
       "    <tr>\n",
       "        <td>35</td>\n",
       "        <td>DOUGLAS</td>\n",
       "        <td>163.4</td>\n",
       "    </tr>\n",
       "    <tr>\n",
       "        <td>17</td>\n",
       "        <td>DUNNING</td>\n",
       "        <td>64.2</td>\n",
       "    </tr>\n",
       "    <tr>\n",
       "        <td>27</td>\n",
       "        <td>EAST GARFIELD PARK</td>\n",
       "        <td>161.3</td>\n",
       "    </tr>\n",
       "    <tr>\n",
       "        <td>52</td>\n",
       "        <td>EAST SIDE</td>\n",
       "        <td>50.9</td>\n",
       "    </tr>\n",
       "    <tr>\n",
       "        <td>77</td>\n",
       "        <td>EDGEWATER</td>\n",
       "        <td>117.9</td>\n",
       "    </tr>\n",
       "    <tr>\n",
       "        <td>9</td>\n",
       "        <td>EDISON PARK</td>\n",
       "        <td>0.0</td>\n",
       "    </tr>\n",
       "    <tr>\n",
       "        <td>68</td>\n",
       "        <td>ENGLEWOOD</td>\n",
       "        <td>100.4</td>\n",
       "    </tr>\n",
       "    <tr>\n",
       "        <td>12</td>\n",
       "        <td>FOREST GLEN</td>\n",
       "        <td>0.0</td>\n",
       "    </tr>\n",
       "    <tr>\n",
       "        <td>37</td>\n",
       "        <td>FULLER PARK</td>\n",
       "        <td>0.0</td>\n",
       "    </tr>\n",
       "    <tr>\n",
       "        <td>63</td>\n",
       "        <td>GAGE PARK</td>\n",
       "        <td>40.3</td>\n",
       "    </tr>\n",
       "    <tr>\n",
       "        <td>56</td>\n",
       "        <td>GARFIELD RIDGE</td>\n",
       "        <td>52.9</td>\n",
       "    </tr>\n",
       "    <tr>\n",
       "        <td>38</td>\n",
       "        <td>GRAND BOULEVARD</td>\n",
       "        <td>73.2</td>\n",
       "    </tr>\n",
       "    <tr>\n",
       "        <td>69</td>\n",
       "        <td>GREATER GRAND CROSSING</td>\n",
       "        <td>45.1</td>\n",
       "    </tr>\n",
       "    <tr>\n",
       "        <td>55</td>\n",
       "        <td>HEGEWISCH</td>\n",
       "        <td>0.0</td>\n",
       "    </tr>\n",
       "    <tr>\n",
       "        <td>20</td>\n",
       "        <td>HERMOSA</td>\n",
       "        <td>35.0</td>\n",
       "    </tr>\n",
       "    <tr>\n",
       "        <td>23</td>\n",
       "        <td>HUMBOLDT PARK</td>\n",
       "        <td>93.19999999999999</td>\n",
       "    </tr>\n",
       "    <tr>\n",
       "        <td>41</td>\n",
       "        <td>HYDE PARK</td>\n",
       "        <td>0.0</td>\n",
       "    </tr>\n",
       "    <tr>\n",
       "        <td>16</td>\n",
       "        <td>IRVING PARK</td>\n",
       "        <td>40.4</td>\n",
       "    </tr>\n",
       "    <tr>\n",
       "        <td>11</td>\n",
       "        <td>JEFFERSON PARK</td>\n",
       "        <td>0.0</td>\n",
       "    </tr>\n",
       "    <tr>\n",
       "        <td>39</td>\n",
       "        <td>KENWOOD</td>\n",
       "        <td>164.8</td>\n",
       "    </tr>\n",
       "    <tr>\n",
       "        <td>6</td>\n",
       "        <td>LAKE VIEW</td>\n",
       "        <td>62.8</td>\n",
       "    </tr>\n",
       "    <tr>\n",
       "        <td>7</td>\n",
       "        <td>LINCOLN PARK</td>\n",
       "        <td>75.5</td>\n",
       "    </tr>\n",
       "    <tr>\n",
       "        <td>4</td>\n",
       "        <td>LINCOLN SQUARE</td>\n",
       "        <td>49.1</td>\n",
       "    </tr>\n",
       "    <tr>\n",
       "        <td>22</td>\n",
       "        <td>LOGAN SQUARE</td>\n",
       "        <td>0.0</td>\n",
       "    </tr>\n",
       "    <tr>\n",
       "        <td>32</td>\n",
       "        <td>LOOP</td>\n",
       "        <td>86.9</td>\n",
       "    </tr>\n",
       "    <tr>\n",
       "        <td>31</td>\n",
       "        <td>LOWER WEST SIDE</td>\n",
       "        <td>48.8</td>\n",
       "    </tr>\n",
       "    <tr>\n",
       "        <td>59</td>\n",
       "        <td>MCKINLEY PARK</td>\n",
       "        <td>0.0</td>\n",
       "    </tr>\n",
       "    <tr>\n",
       "        <td>18</td>\n",
       "        <td>MONTCLARE</td>\n",
       "        <td>0.0</td>\n",
       "    </tr>\n",
       "    <tr>\n",
       "        <td>75</td>\n",
       "        <td>MORGAN PARK</td>\n",
       "        <td>78.5</td>\n",
       "    </tr>\n",
       "    <tr>\n",
       "        <td>74</td>\n",
       "        <td>MOUNT GREENWOOD</td>\n",
       "        <td>79.6</td>\n",
       "    </tr>\n",
       "    <tr>\n",
       "        <td>8</td>\n",
       "        <td>NEAR NORTH SIDE</td>\n",
       "        <td>82.4</td>\n",
       "    </tr>\n",
       "    <tr>\n",
       "        <td>33</td>\n",
       "        <td>NEAR SOUTH SIDE</td>\n",
       "        <td>0.0</td>\n",
       "    </tr>\n",
       "    <tr>\n",
       "        <td>28</td>\n",
       "        <td>NEAR WEST SIDE</td>\n",
       "        <td>172.2</td>\n",
       "    </tr>\n",
       "    <tr>\n",
       "        <td>61</td>\n",
       "        <td>NEW CITY</td>\n",
       "        <td>80.1</td>\n",
       "    </tr>\n",
       "    <tr>\n",
       "        <td>5</td>\n",
       "        <td>NORTH CENTER</td>\n",
       "        <td>143.1</td>\n",
       "    </tr>\n",
       "    <tr>\n",
       "        <td>29</td>\n",
       "        <td>NORTH LAWNDALE</td>\n",
       "        <td>0.0</td>\n",
       "    </tr>\n",
       "    <tr>\n",
       "        <td>13</td>\n",
       "        <td>NORTH PARK</td>\n",
       "        <td>169.2</td>\n",
       "    </tr>\n",
       "    <tr>\n",
       "        <td>10</td>\n",
       "        <td>NORWOOD PARK</td>\n",
       "        <td>62.2</td>\n",
       "    </tr>\n",
       "    <tr>\n",
       "        <td>36</td>\n",
       "        <td>OAKLAND</td>\n",
       "        <td>0.0</td>\n",
       "    </tr>\n",
       "    <tr>\n",
       "        <td>76</td>\n",
       "        <td>OHARE</td>\n",
       "        <td>0.0</td>\n",
       "    </tr>\n",
       "    <tr>\n",
       "        <td>15</td>\n",
       "        <td>PORTAGE PARK</td>\n",
       "        <td>40.9</td>\n",
       "    </tr>\n",
       "    <tr>\n",
       "        <td>50</td>\n",
       "        <td>PULLMAN</td>\n",
       "        <td>44.0</td>\n",
       "    </tr>\n",
       "    <tr>\n",
       "        <td>54</td>\n",
       "        <td>RIVERDALE</td>\n",
       "        <td>60.5</td>\n",
       "    </tr>\n",
       "    <tr>\n",
       "        <td>1</td>\n",
       "        <td>ROGERS PARK</td>\n",
       "        <td>52.1</td>\n",
       "    </tr>\n",
       "    <tr>\n",
       "        <td>49</td>\n",
       "        <td>ROSELAND</td>\n",
       "        <td>180.3</td>\n",
       "    </tr>\n",
       "    <tr>\n",
       "        <td>46</td>\n",
       "        <td>SOUTH CHICAGO</td>\n",
       "        <td>52.4</td>\n",
       "    </tr>\n",
       "    <tr>\n",
       "        <td>51</td>\n",
       "        <td>SOUTH DEERING</td>\n",
       "        <td>0.0</td>\n",
       "    </tr>\n",
       "    <tr>\n",
       "        <td>30</td>\n",
       "        <td>SOUTH LAWNDALE</td>\n",
       "        <td>316.20000000000005</td>\n",
       "    </tr>\n",
       "    <tr>\n",
       "        <td>43</td>\n",
       "        <td>SOUTH SHORE</td>\n",
       "        <td>68.8</td>\n",
       "    </tr>\n",
       "    <tr>\n",
       "        <td>3</td>\n",
       "        <td>UPTOWN</td>\n",
       "        <td>65.0</td>\n",
       "    </tr>\n",
       "    <tr>\n",
       "        <td>73</td>\n",
       "        <td>WASHINGTON HEIGHTS</td>\n",
       "        <td>54.9</td>\n",
       "    </tr>\n",
       "    <tr>\n",
       "        <td>40</td>\n",
       "        <td>WASHINGTON PARK</td>\n",
       "        <td>51.0</td>\n",
       "    </tr>\n",
       "    <tr>\n",
       "        <td>62</td>\n",
       "        <td>WEST ELSDON</td>\n",
       "        <td>45.9</td>\n",
       "    </tr>\n",
       "    <tr>\n",
       "        <td>67</td>\n",
       "        <td>WEST ENGLEWOOD</td>\n",
       "        <td>126.2</td>\n",
       "    </tr>\n",
       "    <tr>\n",
       "        <td>26</td>\n",
       "        <td>WEST GARFIELD PARK</td>\n",
       "        <td>0.0</td>\n",
       "    </tr>\n",
       "    <tr>\n",
       "        <td>65</td>\n",
       "        <td>WEST LAWN</td>\n",
       "        <td>51.3</td>\n",
       "    </tr>\n",
       "    <tr>\n",
       "        <td>53</td>\n",
       "        <td>WEST PULLMAN</td>\n",
       "        <td>0.0</td>\n",
       "    </tr>\n",
       "    <tr>\n",
       "        <td>2</td>\n",
       "        <td>WEST RIDGE</td>\n",
       "        <td>57.4</td>\n",
       "    </tr>\n",
       "    <tr>\n",
       "        <td>24</td>\n",
       "        <td>WEST TOWN</td>\n",
       "        <td>85.3</td>\n",
       "    </tr>\n",
       "    <tr>\n",
       "        <td>42</td>\n",
       "        <td>WOODLAWN</td>\n",
       "        <td>57.6</td>\n",
       "    </tr>\n",
       "</table>"
      ],
      "text/plain": [
       "[(14, 'ALBANY PARK', 42.9),\n",
       " (57, 'ARCHER HEIGHTS', 61.3),\n",
       " (34, 'ARMOUR SQUARE', 0.0),\n",
       " (70, 'ASHBURN', 50.0),\n",
       " (71, 'AUBURN GRESHAM', 0.0),\n",
       " (25, 'AUSTIN', 151.2),\n",
       " (45, 'AVALON PARK', 54.0),\n",
       " (21, 'AVONDALE', 0.0),\n",
       " (19, 'BELMONT CRAGIN', 105.0),\n",
       " (72, 'BEVERLY', 0.0),\n",
       " (60, 'BRIDGEPORT', 0.0),\n",
       " (58, 'BRIGHTON PARK', 46.4),\n",
       " (47, 'BURNSIDE', 0.0),\n",
       " (48, 'CALUMET HEIGHTS', 0.0),\n",
       " (44, 'CHATHAM', 74.0),\n",
       " (66, 'CHICAGO LAWN', 0.0),\n",
       " (64, 'CLEARING', 0.0),\n",
       " (35, 'DOUGLAS', 163.4),\n",
       " (17, 'DUNNING', 64.2),\n",
       " (27, 'EAST GARFIELD PARK', 161.3),\n",
       " (52, 'EAST SIDE', 50.9),\n",
       " (77, 'EDGEWATER', 117.9),\n",
       " (9, 'EDISON PARK', 0.0),\n",
       " (68, 'ENGLEWOOD', 100.4),\n",
       " (12, 'FOREST GLEN', 0.0),\n",
       " (37, 'FULLER PARK', 0.0),\n",
       " (63, 'GAGE PARK', 40.3),\n",
       " (56, 'GARFIELD RIDGE', 52.9),\n",
       " (38, 'GRAND BOULEVARD', 73.2),\n",
       " (69, 'GREATER GRAND CROSSING', 45.1),\n",
       " (55, 'HEGEWISCH', 0.0),\n",
       " (20, 'HERMOSA', 35.0),\n",
       " (23, 'HUMBOLDT PARK', 93.19999999999999),\n",
       " (41, 'HYDE PARK', 0.0),\n",
       " (16, 'IRVING PARK', 40.4),\n",
       " (11, 'JEFFERSON PARK', 0.0),\n",
       " (39, 'KENWOOD', 164.8),\n",
       " (6, 'LAKE VIEW', 62.8),\n",
       " (7, 'LINCOLN PARK', 75.5),\n",
       " (4, 'LINCOLN SQUARE', 49.1),\n",
       " (22, 'LOGAN SQUARE', 0.0),\n",
       " (32, 'LOOP', 86.9),\n",
       " (31, 'LOWER WEST SIDE', 48.8),\n",
       " (59, 'MCKINLEY PARK', 0.0),\n",
       " (18, 'MONTCLARE', 0.0),\n",
       " (75, 'MORGAN PARK', 78.5),\n",
       " (74, 'MOUNT GREENWOOD', 79.6),\n",
       " (8, 'NEAR NORTH SIDE', 82.4),\n",
       " (33, 'NEAR SOUTH SIDE', 0.0),\n",
       " (28, 'NEAR WEST SIDE', 172.2),\n",
       " (61, 'NEW CITY', 80.1),\n",
       " (5, 'NORTH CENTER', 143.1),\n",
       " (29, 'NORTH LAWNDALE', 0.0),\n",
       " (13, 'NORTH PARK', 169.2),\n",
       " (10, 'NORWOOD PARK', 62.2),\n",
       " (36, 'OAKLAND', 0.0),\n",
       " (76, 'OHARE', 0.0),\n",
       " (15, 'PORTAGE PARK', 40.9),\n",
       " (50, 'PULLMAN', 44.0),\n",
       " (54, 'RIVERDALE', 60.5),\n",
       " (1, 'ROGERS PARK', 52.1),\n",
       " (49, 'ROSELAND', 180.3),\n",
       " (46, 'SOUTH CHICAGO', 52.4),\n",
       " (51, 'SOUTH DEERING', 0.0),\n",
       " (30, 'SOUTH LAWNDALE', 316.20000000000005),\n",
       " (43, 'SOUTH SHORE', 68.8),\n",
       " (3, 'UPTOWN', 65.0),\n",
       " (73, 'WASHINGTON HEIGHTS', 54.9),\n",
       " (40, 'WASHINGTON PARK', 51.0),\n",
       " (62, 'WEST ELSDON', 45.9),\n",
       " (67, 'WEST ENGLEWOOD', 126.2),\n",
       " (26, 'WEST GARFIELD PARK', 0.0),\n",
       " (65, 'WEST LAWN', 51.3),\n",
       " (53, 'WEST PULLMAN', 0.0),\n",
       " (2, 'WEST RIDGE', 57.4),\n",
       " (24, 'WEST TOWN', 85.3),\n",
       " (42, 'WOODLAWN', 57.6)]"
      ]
     },
     "execution_count": 38,
     "metadata": {},
     "output_type": "execute_result"
    }
   ],
   "source": [
    "%%sql\n",
    "select COMMUNITY_AREA_NUMBER, COMMUNITY_AREA_NAME, sum(College_Enrollment_Rate__) as Total_College_Enrollment from SCHOOLS group by COMMUNITY_AREA_NAME"
   ]
  },
  {
   "cell_type": "markdown",
   "metadata": {},
   "source": [
    "Double-click **here** for a hint\n",
    "\n",
    "<!--\n",
    "Verify the exact name of the Enrollment column in the database\n",
    "Use the SUM() function to add up the Enrollments for each Community Area\n",
    "-->\n"
   ]
  },
  {
   "cell_type": "markdown",
   "metadata": {},
   "source": [
    "Double-click **here** for another hint\n",
    "\n",
    "<!--\n",
    "Don't forget to group by the Community Area\n",
    "-->\n"
   ]
  },
  {
   "cell_type": "markdown",
   "metadata": {},
   "source": [
    "Double-click **here** for the solution.\n",
    "\n",
    "<!-- Solution:\n",
    "\n",
    "%sql select Community_Area_Name, sum(College_Enrollment) AS TOTAL_ENROLLMENT \\\n",
    "   from CHICAGO_PUBLIC_SCHOOLS_DATA \\\n",
    "   group by Community_Area_Name \n",
    "\n",
    "-->\n"
   ]
  },
  {
   "cell_type": "markdown",
   "metadata": {},
   "source": [
    "### Problem 9\n",
    "\n",
    "##### Get the 5 Community Areas with the least total College Enrollment  sorted in ascending order\n"
   ]
  },
  {
   "cell_type": "code",
   "execution_count": 41,
   "metadata": {},
   "outputs": [
    {
     "name": "stdout",
     "output_type": "stream",
     "text": [
      " * sqlite:///RealWorldData.db\n",
      "Done.\n"
     ]
    },
    {
     "data": {
      "text/html": [
       "<table>\n",
       "    <tr>\n",
       "        <th>COMMUNITY_AREA_NUMBER</th>\n",
       "        <th>COMMUNITY_AREA_NAME</th>\n",
       "        <th>Total_College_Enrollment</th>\n",
       "    </tr>\n",
       "    <tr>\n",
       "        <td>34</td>\n",
       "        <td>ARMOUR SQUARE</td>\n",
       "        <td>0.0</td>\n",
       "    </tr>\n",
       "    <tr>\n",
       "        <td>71</td>\n",
       "        <td>AUBURN GRESHAM</td>\n",
       "        <td>0.0</td>\n",
       "    </tr>\n",
       "    <tr>\n",
       "        <td>21</td>\n",
       "        <td>AVONDALE</td>\n",
       "        <td>0.0</td>\n",
       "    </tr>\n",
       "    <tr>\n",
       "        <td>72</td>\n",
       "        <td>BEVERLY</td>\n",
       "        <td>0.0</td>\n",
       "    </tr>\n",
       "    <tr>\n",
       "        <td>60</td>\n",
       "        <td>BRIDGEPORT</td>\n",
       "        <td>0.0</td>\n",
       "    </tr>\n",
       "</table>"
      ],
      "text/plain": [
       "[(34, 'ARMOUR SQUARE', 0.0),\n",
       " (71, 'AUBURN GRESHAM', 0.0),\n",
       " (21, 'AVONDALE', 0.0),\n",
       " (72, 'BEVERLY', 0.0),\n",
       " (60, 'BRIDGEPORT', 0.0)]"
      ]
     },
     "execution_count": 41,
     "metadata": {},
     "output_type": "execute_result"
    }
   ],
   "source": [
    "%%sql\n",
    "select COMMUNITY_AREA_NUMBER, COMMUNITY_AREA_NAME, sum(College_Enrollment_Rate__) as Total_College_Enrollment from SCHOOLS group by COMMUNITY_AREA_NAME order by sum(College_Enrollment_Rate__) limit 5"
   ]
  },
  {
   "cell_type": "markdown",
   "metadata": {},
   "source": [
    "Double-click **here** for a hint\n",
    "\n",
    "<!--\n",
    "Order the previous query and limit the number of rows you fetch\n",
    "-->\n"
   ]
  },
  {
   "cell_type": "markdown",
   "metadata": {},
   "source": [
    "Double-click **here** for the solution.\n",
    "\n",
    "<!-- Solution:\n",
    "\n",
    "%sql select Community_Area_Name, sum(College_Enrollment) AS TOTAL_ENROLLMENT \\\n",
    "   from CHICAGO_PUBLIC_SCHOOLS_DATA \\\n",
    "   group by Community_Area_Name \\\n",
    "   order by TOTAL_ENROLLMENT asc \\\n",
    "   LIMIT 5 \n",
    "\n",
    "-->\n"
   ]
  },
  {
   "cell_type": "markdown",
   "metadata": {},
   "source": [
    "### Problem 10\n",
    "\n",
    "##### List 5 schools with lowest safety score.\n"
   ]
  },
  {
   "cell_type": "code",
   "execution_count": 44,
   "metadata": {},
   "outputs": [
    {
     "name": "stdout",
     "output_type": "stream",
     "text": [
      " * sqlite:///RealWorldData.db\n",
      "Done.\n"
     ]
    },
    {
     "data": {
      "text/html": [
       "<table>\n",
       "    <tr>\n",
       "        <th>School_ID</th>\n",
       "        <th>NAME_OF_SCHOOL</th>\n",
       "        <th>SAFETY_SCORE</th>\n",
       "    </tr>\n",
       "    <tr>\n",
       "        <td>609819</td>\n",
       "        <td>Edmond Burke Elementary School</td>\n",
       "        <td>1.0</td>\n",
       "    </tr>\n",
       "    <tr>\n",
       "        <td>610108</td>\n",
       "        <td>Luke O&#x27;Toole Elementary School</td>\n",
       "        <td>5.0</td>\n",
       "    </tr>\n",
       "    <tr>\n",
       "        <td>610202</td>\n",
       "        <td>George W Tilton Elementary School</td>\n",
       "        <td>6.0</td>\n",
       "    </tr>\n",
       "    <tr>\n",
       "        <td>609927</td>\n",
       "        <td>Foster Park Elementary School</td>\n",
       "        <td>11.0</td>\n",
       "    </tr>\n",
       "    <tr>\n",
       "        <td>609712</td>\n",
       "        <td>Emil G Hirsch Metropolitan High School</td>\n",
       "        <td>13.0</td>\n",
       "    </tr>\n",
       "</table>"
      ],
      "text/plain": [
       "[(609819, 'Edmond Burke Elementary School', 1.0),\n",
       " (610108, \"Luke O'Toole Elementary School\", 5.0),\n",
       " (610202, 'George W Tilton Elementary School', 6.0),\n",
       " (609927, 'Foster Park Elementary School', 11.0),\n",
       " (609712, 'Emil G Hirsch Metropolitan High School', 13.0)]"
      ]
     },
     "execution_count": 44,
     "metadata": {},
     "output_type": "execute_result"
    }
   ],
   "source": [
    "%%sql \n",
    "select \"School_ID\", NAME_OF_SCHOOL, safety_score from SCHOOLS where safety_score !='None' order by SAFETY_SCORE limit 5"
   ]
  },
  {
   "cell_type": "markdown",
   "metadata": {},
   "source": [
    "Double-click **here** for the solution.\n",
    "\n",
    "<!-- Solution SQLite:\n",
    "\n",
    "%sql SELECT name_of_school, safety_score \\\n",
    "FROM CHICAGO_PUBLIC_SCHOOLS_DATA  where safety_score !='None' \\\n",
    "ORDER BY safety_score \\\n",
    "LIMIT 5\n",
    "\n",
    "-->\n"
   ]
  },
  {
   "cell_type": "markdown",
   "metadata": {},
   "source": [
    "### Problem 11\n",
    "\n",
    "##### Get the hardship index for the community area which has College Enrollment of 4368\n"
   ]
  },
  {
   "cell_type": "code",
   "execution_count": 51,
   "metadata": {},
   "outputs": [
    {
     "name": "stdout",
     "output_type": "stream",
     "text": [
      " * sqlite:///RealWorldData.db\n",
      "Done.\n"
     ]
    },
    {
     "data": {
      "text/html": [
       "<table>\n",
       "    <tr>\n",
       "        <th>hardship_index</th>\n",
       "    </tr>\n",
       "    <tr>\n",
       "        <td>6.0</td>\n",
       "    </tr>\n",
       "</table>"
      ],
      "text/plain": [
       "[(6.0,)]"
      ]
     },
     "execution_count": 51,
     "metadata": {},
     "output_type": "execute_result"
    }
   ],
   "source": [
    "%%sql \n",
    "select hardship_index from chicago_socioeconomic_data CD, schools CPS \n",
    "where CD.ca = CPS.community_area_number \n",
    "and college_enrollment = 4368"
   ]
  },
  {
   "cell_type": "markdown",
   "metadata": {},
   "source": [
    "Double-click **here** for the solution.\n",
    "\n",
    "<!-- Solution:\n",
    "NOTE: For this solution to work the CHICAGO_SOCIOECONOMIC_DATA table \n",
    "      as created in the last lab of Week 3 should already exist\n",
    "\n",
    "%%sql \n",
    "select hardship_index from CENSUS_DATA CD, CHICAGO_PUBLIC_SCHOOLS_DATA CPS \n",
    "where CD.community_area_number = CPS.community_area_number \n",
    "and college_enrollment = 4368\n",
    "\n",
    "\n",
    "-->\n"
   ]
  },
  {
   "cell_type": "markdown",
   "metadata": {},
   "source": [
    "### Problem 12\n",
    "\n",
    "##### Get the hardship index for the community area which has the highest value for College Enrollment\n"
   ]
  },
  {
   "cell_type": "code",
   "execution_count": 60,
   "metadata": {},
   "outputs": [
    {
     "name": "stdout",
     "output_type": "stream",
     "text": [
      " * sqlite:///RealWorldData.db\n",
      "Done.\n"
     ]
    },
    {
     "data": {
      "text/html": [
       "<table>\n",
       "    <tr>\n",
       "        <th>ca</th>\n",
       "        <th>community_area_name</th>\n",
       "        <th>hardship_index</th>\n",
       "    </tr>\n",
       "    <tr>\n",
       "        <td>5.0</td>\n",
       "        <td>North Center</td>\n",
       "        <td>6.0</td>\n",
       "    </tr>\n",
       "</table>"
      ],
      "text/plain": [
       "[(5.0, 'North Center', 6.0)]"
      ]
     },
     "execution_count": 60,
     "metadata": {},
     "output_type": "execute_result"
    }
   ],
   "source": [
    "%%sql \n",
    "select CD.ca, CD.community_area_name, CD.hardship_index from chicago_socioeconomic_data CD, schools CPS \n",
    "where CD.ca = CPS.community_area_number \n",
    "and college_enrollment = (select max(college_enrollment) from schools);\n"
   ]
  },
  {
   "cell_type": "code",
   "execution_count": 62,
   "metadata": {},
   "outputs": [
    {
     "name": "stdout",
     "output_type": "stream",
     "text": [
      " * sqlite:///RealWorldData.db\n",
      "Done.\n"
     ]
    },
    {
     "data": {
      "text/html": [
       "<table>\n",
       "    <tr>\n",
       "        <th>ca</th>\n",
       "        <th>community_area_name</th>\n",
       "        <th>hardship_index</th>\n",
       "    </tr>\n",
       "    <tr>\n",
       "        <td>5.0</td>\n",
       "        <td>North Center</td>\n",
       "        <td>6.0</td>\n",
       "    </tr>\n",
       "</table>"
      ],
      "text/plain": [
       "[(5.0, 'North Center', 6.0)]"
      ]
     },
     "execution_count": 62,
     "metadata": {},
     "output_type": "execute_result"
    }
   ],
   "source": [
    "%%sql\n",
    "select ca, community_area_name, hardship_index from chicago_socioeconomic_data \n",
    "   where ca in \n",
    "   ( select community_area_number from schools order by college_enrollment desc limit 1 );"
   ]
  },
  {
   "cell_type": "markdown",
   "metadata": {},
   "source": [
    "Double-click **here** for the solution.\n",
    "\n",
    "<!-- Solution:\n",
    "NOTE: For this solution to work the CHICAGO_SOCIOECONOMIC_DATA table \n",
    "      as created in the last lab of Week 3 should already exist\n",
    "\n",
    "%sql select community_area_number, community_area_name, hardship_index from CENSUS_DATA \\\n",
    "   where community_area_number in \\\n",
    "   ( select community_area_number from CHICAGO_PUBLIC_SCHOOLS_DATA order by college_enrollment desc limit 1 )\n",
    "-->\n"
   ]
  },
  {
   "cell_type": "markdown",
   "metadata": {},
   "source": [
    "## Summary\n",
    "\n",
    "##### In this lab you learned how to work with a real word dataset using SQL and Python. You learned how to query columns with spaces or special characters in their names and with mixed case names. You also used built in database functions and practiced how to sort, limit, and order result sets, as well as used sub-queries and worked with multiple tables.\n"
   ]
  },
  {
   "cell_type": "markdown",
   "metadata": {},
   "source": [
    "## Author\n",
    "\n",
    "<a href=\"https://www.linkedin.com/in/ravahuja/?utm_medium=Exinfluencer&utm_source=Exinfluencer&utm_content=000026UJ&utm_term=10006555&utm_id=NA-SkillsNetwork-Channel-SkillsNetworkCoursesIBMDeveloperSkillsNetworkDB0201ENSkillsNetwork20127838-2021-01-01\" target=\"_blank\">Rav Ahuja</a>\n",
    "\n",
    "## Change Log\n",
    "\n",
    "| Date (YYYY-MM-DD) | Version | Changed By        | Change Description                        |\n",
    "| ----------------- | ------- | ----------------- | ----------------------------------------- |\n",
    "| 2022-03-04        | 2.2     | Lakshmi Holla     | Made changes in markdown cells            |\n",
    "| 2020-11-27        | 2.1     | Sannareddy Ramesh | Modified data sets and added new problems |\n",
    "| 2020-08-28        | 2.0     | Lavanya           | Moved lab to course repo in GitLab        |\n",
    "\n",
    "<hr>\n",
    "\n",
    "## <h3 align=\"center\"> © IBM Corporation 2020. All rights reserved. <h3/>\n"
   ]
  }
 ],
 "metadata": {
  "kernelspec": {
   "display_name": "Python 3 (ipykernel)",
   "language": "python",
   "name": "python3"
  },
  "language_info": {
   "codemirror_mode": {
    "name": "ipython",
    "version": 3
   },
   "file_extension": ".py",
   "mimetype": "text/x-python",
   "name": "python",
   "nbconvert_exporter": "python",
   "pygments_lexer": "ipython3",
   "version": "3.9.12"
  },
  "widgets": {
   "state": {},
   "version": "1.1.2"
  }
 },
 "nbformat": 4,
 "nbformat_minor": 4
}
