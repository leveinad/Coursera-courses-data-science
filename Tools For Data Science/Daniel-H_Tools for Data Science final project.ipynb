{
 "cells": [
  {
   "cell_type": "markdown",
   "id": "1d04eb53-7f91-45d1-8167-bbb38ee237f8",
   "metadata": {},
   "source": [
    "# My Jupyter Notebook on IBM Watson Studio"
   ]
  },
  {
   "cell_type": "markdown",
   "id": "074592e1-810f-403c-9232-e1cb6732aa6a",
   "metadata": {},
   "source": [
    "**Daniel Hokinson** <br>\n",
    "Future Data Scientist / Bioinformatician"
   ]
  },
  {
   "cell_type": "markdown",
   "id": "9486128f-837a-4644-abc8-e6350bfe507b",
   "metadata": {},
   "source": [
    "*I am interested in Data Science because biologist around the world are creating an enourmous data with the use of genomics tool and we need more people that understand how to analyze these data and gain novel findings*"
   ]
  },
  {
   "cell_type": "markdown",
   "id": "346fb38b-73db-4e95-b9b5-86747f116ba3",
   "metadata": {},
   "source": [
    "### This code belows print all number in the list by 4 and prints it"
   ]
  },
  {
   "cell_type": "code",
   "execution_count": 2,
   "id": "20e73d6c-986f-408c-bd63-4bfb077fa696",
   "metadata": {},
   "outputs": [
    {
     "name": "stdout",
     "output_type": "stream",
     "text": [
      "4\n",
      "36\n",
      "12\n",
      "32\n",
      "20\n",
      "28\n"
     ]
    }
   ],
   "source": [
    "my_list = [1,9,3,8,5,7]\n",
    "\n",
    "for number in my_list:\n",
    "  print (4*number)"
   ]
  },
  {
   "cell_type": "markdown",
   "id": "1103ec1c-2d6e-40b9-bbff-89637aca1a61",
   "metadata": {},
   "source": [
    "Date | Accessed Link |\n",
    "--- | --- |\n",
    "16.06 | [Coursera](coursera.com) |\n",
    "16.06 | [Best Data Science Tutorial](https://www.youtube.com/watch?v=dQw4w9WgXcQ) |"
   ]
  },
  {
   "cell_type": "code",
   "execution_count": null,
   "id": "4b71a991-0c58-4ebb-ad92-25f3534fb4f0",
   "metadata": {},
   "outputs": [],
   "source": []
  }
 ],
 "metadata": {
  "kernelspec": {
   "display_name": "Python 3 (ipykernel)",
   "language": "python",
   "name": "python3"
  },
  "language_info": {
   "codemirror_mode": {
    "name": "ipython",
    "version": 3
   },
   "file_extension": ".py",
   "mimetype": "text/x-python",
   "name": "python",
   "nbconvert_exporter": "python",
   "pygments_lexer": "ipython3",
   "version": "3.9.12"
  }
 },
 "nbformat": 4,
 "nbformat_minor": 5
}
